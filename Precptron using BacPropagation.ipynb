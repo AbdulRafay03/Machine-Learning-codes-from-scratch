{
 "cells": [
  {
   "cell_type": "code",
   "execution_count": null,
   "metadata": {},
   "outputs": [],
   "source": [
    "import random\n",
    "class Model:\n",
    "    def __init__(self):\n",
    "        self.layers = []\n",
    "\n",
    "   \n",
    "    class Layer:\n",
    "        def __init__(self , LR , Activation):\n",
    "            if Activation in ['sigmoid' , 'tanh']:\n",
    "                self.Activation = Activation\n",
    "                self.LR = LR\n",
    "                self.weights = []\n",
    "            else:\n",
    "                raise ValueError(f'{Activation} is not implemented chose from [''sigmoid'' , ''tanh''] ')\n",
    "\n",
    "    def add_layer(self , LR , Activation):\n",
    "        self.layers.append(self.Layer(Activation=Activation , LR = LR))\n",
    "    \n",
    "\n",
    "    def fit(self , xtrain , ytrain):\n",
    "\n",
    "        #first layer gets weights equal to number of inputs\n",
    "        for i in range(len(xtrain[1])):\n",
    "            L.append(random.uniform(-1,1))\n",
    "    \n",
    "        #rest of the layers get 2 wieghts\n",
    "        for L in self.layers[1:]:\n",
    "            for i in range(0,2):\n",
    "                L.weights.append(random.uniform(-1,1))\n",
    "\n",
    "        "
   ]
  },
  {
   "cell_type": "code",
   "execution_count": 1,
   "metadata": {},
   "outputs": [
    {
     "name": "stdout",
     "output_type": "stream",
     "text": [
      "0\n",
      "1\n"
     ]
    }
   ],
   "source": [
    "for i in range(0,2):\n",
    "    print(i)"
   ]
  },
  {
   "cell_type": "markdown",
   "metadata": {},
   "source": []
  }
 ],
 "metadata": {
  "language_info": {
   "name": "python"
  }
 },
 "nbformat": 4,
 "nbformat_minor": 2
}
