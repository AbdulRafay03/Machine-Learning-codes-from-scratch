{
 "cells": [
  {
   "cell_type": "code",
   "execution_count": 4,
   "metadata": {},
   "outputs": [
    {
     "name": "stdout",
     "output_type": "stream",
     "text": [
      "train predictions:  [1, 1, 1, 1]\n",
      "[1, 1, 1, 1]\n"
     ]
    }
   ],
   "source": [
    "import random\n",
    "import math\n",
    "class Model:\n",
    "    def __init__(self):\n",
    "        super().__init__()\n",
    "        self.layers = []\n",
    "\n",
    "    class Layer:\n",
    "        def __init__(self, LR, Activation):\n",
    "            if Activation in ['sigmoid', 'tanh' , 'relu']:\n",
    "                self.Activation = Activation\n",
    "                self.LR = LR\n",
    "                self.weights = []\n",
    "                self.bias = random.uniform(1, 5)\n",
    "            else:\n",
    "                raise ValueError(f'{Activation} is not implemented; choose from [\"sigmoid\", \"tanh\"] ')\n",
    "\n",
    "    def add_layer(self, LR, Activation):\n",
    "        self.layers.append(self.Layer(LR=LR, Activation=Activation))\n",
    "\n",
    "    def predd(self, inputs, lay):\n",
    "        preds = []\n",
    "        for i in inputs:\n",
    "            z = 0\n",
    "            for x, w in zip(i, lay.weights[1:]):\n",
    "                z += w * x\n",
    "\n",
    "            if lay.Activation == 'sigmoid':\n",
    "               s = 1 / (1 + math.exp(-z))\n",
    "            elif lay.Activation == 'tanh':\n",
    "                s = math.tanh(z)\n",
    "            elif lay.Activation == 'relu':\n",
    "                s = max(0,z)\n",
    "            if s <= 0:\n",
    "                   y_pred = -1\n",
    "            else : y_pred = 1\n",
    "            preds.append(y_pred)\n",
    "\n",
    "        return preds\n",
    "\n",
    "    def update_weights(self, inputs, y_train, y_preds, lay):\n",
    "        new_params = []\n",
    "\n",
    "        for i, w in enumerate(lay.weights):\n",
    "            s = 0\n",
    "            for x, ya, yp in zip(inputs, y_train, y_preds):\n",
    "                # print(x ,ya , yp)\n",
    "                s += (yp - ya) * x[i]\n",
    "            par_dev = s / len(inputs)\n",
    "\n",
    "            new_w = w - (lay.LR * par_dev)\n",
    "            new_params.append(new_w)\n",
    "\n",
    "        lay.weights = new_params\n",
    "\n",
    "    def fit(self, x_train, y_train , epochs = 300):\n",
    "        for i in range(len(x_train[0]) + 1):\n",
    "            self.layers[0].weights.append(random.uniform(-1, 1))\n",
    "\n",
    "        for L in self.layers[1:]:\n",
    "            for i in range(2):\n",
    "                L.weights.append(random.uniform(-1, 1))\n",
    "        \n",
    "\n",
    "        for eps in range(epochs):\n",
    "            inputs = [[] for _ in range(len(self.layers))]\n",
    "            preds = []\n",
    "            for i in x_train:\n",
    "                inputs[0].append(tuple([self.layers[0].bias] + list(i)))\n",
    "\n",
    "\n",
    "            for i in range(len(self.layers)):\n",
    "                # print(f'layer number {i}')\n",
    "                # print('w0 =', '%5.2f' % self.layers[i].weights[0], ', w1 =', '%5.2f' % self.layers[i].weights[1])    \n",
    "                p = self.predd(inputs[i], self.layers[i])\n",
    "                preds.append(p)\n",
    "                if i == len(self.layers) - 1:\n",
    "                    inputs.append(p)\n",
    "                else:\n",
    "                    inputs[i + 1].extend([(self.layers[i + 1].bias,) + (pp,) for pp in p])\n",
    "                for i in range(len(self.layers)):\n",
    "                    self.update_weights(inputs[i], y_train, p, self.layers[i])\n",
    "                    # print(self.layers[i].weights)\n",
    "        print('train predictions: ' ,preds[-1])\n",
    "\n",
    "    def predict(self , x):\n",
    "        inputs = [[] for _ in range(len(self.layers))]\n",
    "\n",
    "        for i in x:\n",
    "            inputs[0].append(tuple([self.layers[0].bias] + list(i)))\n",
    "\n",
    "        for i in range(len(self.layers)):\n",
    "            p = self.predd(inputs[i], self.layers[i])\n",
    "            if i == len(self.layers) - 1:\n",
    "                return p\n",
    "            else:\n",
    "                inputs[i + 1].extend([(self.layers[i + 1].bias,) + (pp,) for pp in p])\n",
    "\n",
    "\n",
    "\n",
    "\n",
    "#trying it out with OR Gate\n",
    "mod = Model()\n",
    "mod.add_layer(LR=0.01, Activation='sigmoid')\n",
    "mod.add_layer(LR=0.01, Activation='tanh')\n",
    "\n",
    "\n",
    "\n",
    "x_train = [[-1.0, -1.0], [-1.0, 1.0], [1.0, -1.0], [1.0, 1.0]]\n",
    "y_train = [-1, 1, 1, 1]\n",
    "mod.fit(x_train, y_train , epochs=1000)\n",
    "print(mod.predict(x_train))"
   ]
  },
  {
   "cell_type": "code",
   "execution_count": 5,
   "metadata": {},
   "outputs": [],
   "source": [
    "#iris dataset\n",
    "import pandas as pd\n",
    "iris = pd.read_csv(r\"C:\\Users\\Hp\\Desktop\\Iris.csv\") \n",
    "iris = iris[iris['Species'].isin(['Iris-setosa', 'Iris-versicolor'])]\n",
    "mapp = {'Iris-setosa' : 1 , 'Iris-versicolor' : -1}\n",
    "\n",
    "iris['Species'] = iris['Species'].map(mapp)\n",
    "iris.drop('Id' , axis= 1 , inplace=True)\n",
    "\n",
    "y = iris.pop('Species').tolist()\n",
    "\n",
    "\n",
    "#train test split\n",
    "from sklearn.model_selection import train_test_split\n",
    "X_train ,X_test , y_train , y_test = train_test_split(iris , y , train_size= 0.8)\n",
    "\n",
    "\n",
    "xtrain = [tuple(x) for x in X_train.values]\n",
    "xtest = [tuple(x) for x in X_test.values]\n",
    "\n"
   ]
  },
  {
   "cell_type": "code",
   "execution_count": 10,
   "metadata": {},
   "outputs": [
    {
     "name": "stdout",
     "output_type": "stream",
     "text": [
      "train predictions:  [-1, -1, -1, -1, -1, -1, -1, -1, -1, -1, -1, -1, -1, -1, -1, -1, -1, -1, -1, -1, -1, -1, -1, -1, -1, -1, -1, -1, -1, -1, -1, -1, -1, -1, -1, -1, -1, -1, -1, -1, -1, -1, -1, -1, -1, -1, -1, -1, -1, -1, -1, -1, -1, -1, -1, -1, -1, -1, -1, -1, -1, -1, -1, -1, -1, -1, -1, -1, -1, -1, -1, -1, -1, -1, -1, -1, -1, -1, -1, -1]\n",
      "[1, 1, 1, 1, 1, 1, 1, 1, 1, 1, 1, 1, 1, 1, 1, 1, 1, 1, 1, 1, 1, 1, 1, 1, 1, 1, 1, 1, 1, 1, 1, 1, 1, 1, 1, 1, 1, 1, 1, 1, 1, 1, 1, 1, 1, 1, 1, 1, 1, 1, 1, 1, 1, 1, 1, 1, 1, 1, 1, 1, 1, 1, 1, 1, 1, 1, 1, 1, 1, 1, 1, 1, 1, 1, 1, 1, 1, 1, 1, 1]\n",
      "accuracy_score:  0.45\n"
     ]
    }
   ],
   "source": [
    "mod = Model()\n",
    "mod.add_layer(LR=0.01, Activation='sigmoid')\n",
    "mod.add_layer(LR=0.01, Activation='tanh')\n",
    "\n",
    "mod.fit(xtrain, y_train , epochs=1000)\n",
    "print(mod.predict(xtrain))\n",
    "from sklearn.metrics import accuracy_score\n",
    "print('accuracy_score: ' , accuracy_score(y_test , mod.predict(xtest)))"
   ]
  },
  {
   "cell_type": "code",
   "execution_count": 13,
   "metadata": {},
   "outputs": [
    {
     "name": "stdout",
     "output_type": "stream",
     "text": [
      "train predictions:  [1, 1, 1, 1, 1, 1, 1, 1, 1, 1, 1, 1, 1, 1, 1, 1, 1, 1, 1, 1, 1, 1, 1, 1, 1, 1, 1, 1, 1, 1, 1, 1, 1, 1, 1, 1, 1, 1, 1, 1, 1, 1, 1, 1, 1, 1, 1, 1, 1, 1, 1, 1, 1, 1, 1, 1, 1, 1, 1, 1, 1, 1, 1, 1, 1, 1, 1, 1, 1, 1, 1, 1, 1, 1, 1, 1, 1, 1, 1, 1]\n",
      "[1, 1, 1, 1, 1, 1, 1, 1, 1, 1, 1, 1, 1, 1, 1, 1, 1, 1, 1, 1, 1, 1, 1, 1, 1, 1, 1, 1, 1, 1, 1, 1, 1, 1, 1, 1, 1, 1, 1, 1, 1, 1, 1, 1, 1, 1, 1, 1, 1, 1, 1, 1, 1, 1, 1, 1, 1, 1, 1, 1, 1, 1, 1, 1, 1, 1, 1, 1, 1, 1, 1, 1, 1, 1, 1, 1, 1, 1, 1, 1]\n",
      "accuracy_score:  0.45\n"
     ]
    }
   ],
   "source": [
    "mod = Model()\n",
    "mod.add_layer(LR=0.001, Activation='tanh')\n",
    "mod.add_layer(LR=0.001, Activation='sigmoid')\n",
    "\n",
    "mod.fit(xtrain, y_train , epochs=1000)\n",
    "print(mod.predict(xtrain))\n",
    "from sklearn.metrics import accuracy_score\n",
    "print('accuracy_score: ' , accuracy_score(y_test , mod.predict(xtest)))"
   ]
  },
  {
   "cell_type": "code",
   "execution_count": 21,
   "metadata": {},
   "outputs": [
    {
     "name": "stdout",
     "output_type": "stream",
     "text": [
      "train predictions:  [-1, -1, -1, -1, -1, -1, -1, -1, -1, -1, -1, -1, -1, -1, -1, -1, -1, -1, -1, -1, -1, -1, -1, -1, -1, -1, -1, -1, -1, -1, -1, -1, -1, -1, -1, -1, -1, -1, -1, -1, -1, -1, -1, -1, -1, -1, -1, -1, -1, -1, -1, -1, -1, -1, -1, -1, -1, -1, -1, -1, -1, -1, -1, -1, -1, -1, -1, -1, -1, -1, -1, -1, -1, -1, -1, -1, -1, -1, -1, -1]\n",
      "[-1, -1, -1, -1, -1, -1, -1, -1, -1, -1, -1, -1, -1, -1, -1, -1, -1, -1, -1, -1, -1, -1, -1, -1, -1, -1, -1, -1, -1, -1, -1, -1, -1, -1, -1, -1, -1, -1, -1, -1, -1, -1, -1, -1, -1, -1, -1, -1, -1, -1, -1, -1, -1, -1, -1, -1, -1, -1, -1, -1, -1, -1, -1, -1, -1, -1, -1, -1, -1, -1, -1, -1, -1, -1, -1, -1, -1, -1, -1, -1]\n",
      "accuracy_score:  0.55\n"
     ]
    }
   ],
   "source": [
    "mod = Model()\n",
    "mod.add_layer(LR=0.001, Activation='relu')\n",
    "mod.add_layer(LR=0.001, Activation='relu')\n",
    "\n",
    "mod.fit(xtrain, y_train , epochs=1000)\n",
    "print(mod.predict(xtrain))\n",
    "from sklearn.metrics import accuracy_score\n",
    "print('accuracy_score: ' , accuracy_score(y_test , mod.predict(xtest)))"
   ]
  },
  {
   "cell_type": "code",
   "execution_count": 22,
   "metadata": {},
   "outputs": [
    {
     "name": "stdout",
     "output_type": "stream",
     "text": [
      "train predictions:  [1, 1, 1, 1, 1, 1, 1, 1, 1, 1, 1, 1, 1, 1, 1, 1, 1, 1, 1, 1, 1, 1, 1, 1, 1, 1, 1, 1, 1, 1, 1, 1, 1, 1, 1, 1, 1, 1, 1, 1, 1, 1, 1, 1, 1, 1, 1, 1, 1, 1, 1, 1, 1, 1, 1, 1, 1, 1, 1, 1, 1, 1, 1, 1, 1, 1, 1, 1, 1, 1, 1, 1, 1, 1, 1, 1, 1, 1, 1, 1]\n",
      "[1, 1, 1, 1, 1, 1, 1, 1, 1, 1, 1, 1, 1, 1, 1, 1, 1, 1, 1, 1, 1, 1, 1, 1, 1, 1, 1, 1, 1, 1, 1, 1, 1, 1, 1, 1, 1, 1, 1, 1, 1, 1, 1, 1, 1, 1, 1, 1, 1, 1, 1, 1, 1, 1, 1, 1, 1, 1, 1, 1, 1, 1, 1, 1, 1, 1, 1, 1, 1, 1, 1, 1, 1, 1, 1, 1, 1, 1, 1, 1]\n",
      "accuracy_score:  0.45\n"
     ]
    }
   ],
   "source": [
    "mod = Model()\n",
    "mod.add_layer(LR=0.01, Activation='relu')\n",
    "mod.add_layer(LR=0.01, Activation='sigmoid')\n",
    "\n",
    "mod.fit(xtrain, y_train , epochs=2000)\n",
    "print(mod.predict(xtrain))\n",
    "from sklearn.metrics import accuracy_score\n",
    "print('accuracy_score: ' , accuracy_score(y_test , mod.predict(xtest)))"
   ]
  },
  {
   "cell_type": "code",
   "execution_count": 23,
   "metadata": {},
   "outputs": [
    {
     "name": "stdout",
     "output_type": "stream",
     "text": [
      "train predictions:  [-1, -1, -1, -1, -1, -1, -1, -1, -1, -1, -1, -1, -1, -1, -1, -1, -1, -1, -1, -1, -1, -1, -1, -1, -1, -1, -1, -1, -1, -1, -1, -1, -1, -1, -1, -1, -1, -1, -1, -1, -1, -1, -1, -1, -1, -1, -1, -1, -1, -1, -1, -1, -1, -1, -1, -1, -1, -1, -1, -1, -1, -1, -1, -1, -1, -1, -1, -1, -1, -1, -1, -1, -1, -1, -1, -1, -1, -1, -1, -1]\n",
      "[-1, -1, -1, -1, -1, -1, -1, -1, -1, -1, -1, -1, -1, -1, -1, -1, -1, -1, -1, -1, -1, -1, -1, -1, -1, -1, -1, -1, -1, -1, -1, -1, -1, -1, -1, -1, -1, -1, -1, -1, -1, -1, -1, -1, -1, -1, -1, -1, -1, -1, -1, -1, -1, -1, -1, -1, -1, -1, -1, -1, -1, -1, -1, -1, -1, -1, -1, -1, -1, -1, -1, -1, -1, -1, -1, -1, -1, -1, -1, -1]\n",
      "accuracy_score:  0.55\n"
     ]
    }
   ],
   "source": [
    "mod = Model()\n",
    "mod.add_layer(LR=0.01, Activation='relu')\n",
    "mod.add_layer(LR=0.01, Activation='relu')\n",
    "\n",
    "mod.fit(xtrain, y_train , epochs=5000)\n",
    "print(mod.predict(xtrain))\n",
    "from sklearn.metrics import accuracy_score\n",
    "print('accuracy_score: ' , accuracy_score(y_test , mod.predict(xtest)))"
   ]
  },
  {
   "cell_type": "markdown",
   "metadata": {},
   "source": [
    "- it is predicting same output for each record \n",
    "- i have tried changing epoches , Lr and number layers \n",
    "- i think i have probably made mistake in activation fucntion"
   ]
  },
  {
   "cell_type": "code",
   "execution_count": 2,
   "metadata": {},
   "outputs": [],
   "source": [
    "import matplotlib.pyplot as plt\n",
    "import numpy as np\n",
    "def plot(w,x,y):\n",
    "    m = -w[1] / w[2]\n",
    "    b = -w[0] / w[2]\n",
    "\n",
    "    x_values = np.linspace(-2, 2, 100)  \n",
    "\n",
    "    y_values = m * x_values + b\n",
    "\n",
    "    plt.plot(x_values, y_values, label='Decision Boundary', color='red')\n",
    "\n",
    "    x_values = [point[1] for point in x]\n",
    "    y_values = [point[2] for point in x]\n",
    "\n",
    "    for i in range(len(x)):\n",
    "        marker = 'x' if y[i] == 1 else 'o'\n",
    "        plt.scatter(x_values[i], y_values[i], marker=marker)\n",
    "\n",
    "    plt.xlabel('Feature 1')\n",
    "    plt.ylabel('Feature 2')\n",
    "    plt.title('Decision Boundry')\n",
    "    plt.legend()\n",
    "    plt.grid(True)\n",
    "    plt.show()\n"
   ]
  },
  {
   "cell_type": "code",
   "execution_count": 11,
   "metadata": {},
   "outputs": [
    {
     "name": "stdout",
     "output_type": "stream",
     "text": [
      "[-1.7876217182281688, -13.900052607614384, 3.1164210394429395, -29.813529333364617, -10.974670903512937]\n"
     ]
    },
    {
     "data": {
      "image/png": "[encoded data removed]",
      "text/plain": [
       "<Figure size 640x480 with 1 Axes>"
      ]
     },
     "metadata": {},
     "output_type": "display_data"
    }
   ],
   "source": [
    "import numpy as np\n",
    "new_list = [(t[0], t[1] , t[2]) for t in xtrain]\n",
    "print(mod.layers[0].weights)\n",
    "plot(mod.layers[0].weights,new_list,y_train)"
   ]
  }
 ],
 "metadata": {
  "kernelspec": {
   "display_name": "base",
   "language": "python",
   "name": "python3"
  },
  "language_info": {
   "codemirror_mode": {
    "name": "ipython",
    "version": 3
   },
   "file_extension": ".py",
   "mimetype": "text/x-python",
   "name": "python",
   "nbconvert_exporter": "python",
   "pygments_lexer": "ipython3",
   "version": "3.10.9"
  }
 },
 "nbformat": 4,
 "nbformat_minor": 2
}
