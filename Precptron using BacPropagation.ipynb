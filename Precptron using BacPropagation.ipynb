{
 "cells": [
  {
   "cell_type": "code",
   "execution_count": 43,
   "metadata": {},
   "outputs": [
    {
     "name": "stdout",
     "output_type": "stream",
     "text": [
      "[[(2.2340981873879073, -1.0, -1.0), (2.2340981873879073, -1.0, 1.0), (2.2340981873879073, 1.0, -1.0), (2.2340981873879073, 1.0, 1.0)]]\n"
     ]
    },
    {
     "ename": "IndexError",
     "evalue": "list index out of range",
     "output_type": "error",
     "traceback": [
      "\u001b[1;31m---------------------------------------------------------------------------\u001b[0m",
      "\u001b[1;31mIndexError\u001b[0m                                Traceback (most recent call last)",
      "Cell \u001b[1;32mIn[43], line 79\u001b[0m\n\u001b[0;32m     77\u001b[0m x_train \u001b[38;5;241m=\u001b[39m [[\u001b[38;5;241m-\u001b[39m\u001b[38;5;241m1.0\u001b[39m, \u001b[38;5;241m-\u001b[39m\u001b[38;5;241m1.0\u001b[39m], [\u001b[38;5;241m-\u001b[39m\u001b[38;5;241m1.0\u001b[39m, \u001b[38;5;241m1.0\u001b[39m], [\u001b[38;5;241m1.0\u001b[39m, \u001b[38;5;241m-\u001b[39m\u001b[38;5;241m1.0\u001b[39m], [\u001b[38;5;241m1.0\u001b[39m, \u001b[38;5;241m1.0\u001b[39m]]\n\u001b[0;32m     78\u001b[0m y_train \u001b[38;5;241m=\u001b[39m [\u001b[38;5;241m1\u001b[39m, \u001b[38;5;241m-\u001b[39m\u001b[38;5;241m1\u001b[39m, \u001b[38;5;241m-\u001b[39m\u001b[38;5;241m1\u001b[39m, \u001b[38;5;241m1\u001b[39m]\n\u001b[1;32m---> 79\u001b[0m \u001b[43mmod\u001b[49m\u001b[38;5;241;43m.\u001b[39;49m\u001b[43mfit\u001b[49m\u001b[43m(\u001b[49m\u001b[43mx_train\u001b[49m\u001b[43m,\u001b[49m\u001b[43m \u001b[49m\u001b[43my_train\u001b[49m\u001b[43m)\u001b[49m\n",
      "Cell \u001b[1;32mIn[43], line 67\u001b[0m, in \u001b[0;36mModel.fit\u001b[1;34m(self, x_train, y_train)\u001b[0m\n\u001b[0;32m     65\u001b[0m p \u001b[38;5;241m=\u001b[39m \u001b[38;5;28mself\u001b[39m\u001b[38;5;241m.\u001b[39mpredict(inputs[i], \u001b[38;5;28mself\u001b[39m\u001b[38;5;241m.\u001b[39mlayers[i])\n\u001b[0;32m     66\u001b[0m \u001b[38;5;28;01mif\u001b[39;00m i \u001b[38;5;241m==\u001b[39m \u001b[38;5;28mlen\u001b[39m(\u001b[38;5;28mself\u001b[39m\u001b[38;5;241m.\u001b[39mlayers) \u001b[38;5;241m-\u001b[39m \u001b[38;5;241m1\u001b[39m:\n\u001b[1;32m---> 67\u001b[0m     \u001b[43minputs\u001b[49m\u001b[43m[\u001b[49m\u001b[43mi\u001b[49m\u001b[43m \u001b[49m\u001b[38;5;241;43m+\u001b[39;49m\u001b[43m \u001b[49m\u001b[38;5;241;43m1\u001b[39;49m\u001b[43m]\u001b[49m\u001b[38;5;241m.\u001b[39mextend(p)\n\u001b[0;32m     68\u001b[0m \u001b[38;5;28;01melse\u001b[39;00m:\n\u001b[0;32m     69\u001b[0m     inputs[i \u001b[38;5;241m+\u001b[39m \u001b[38;5;241m1\u001b[39m]\u001b[38;5;241m.\u001b[39mextend([(\u001b[38;5;28mself\u001b[39m\u001b[38;5;241m.\u001b[39mlayers[i \u001b[38;5;241m+\u001b[39m \u001b[38;5;241m1\u001b[39m]\u001b[38;5;241m.\u001b[39mweights, pp) \u001b[38;5;28;01mfor\u001b[39;00m pp \u001b[38;5;129;01min\u001b[39;00m p])\n",
      "\u001b[1;31mIndexError\u001b[0m: list index out of range"
     ]
    }
   ],
   "source": [
    "import random\n",
    "\n",
    "class Model:\n",
    "    def __init__(self):\n",
    "        super().__init__()\n",
    "        self.layers = []\n",
    "\n",
    "    class Layer:\n",
    "        def __init__(self, LR, Activation):\n",
    "            if Activation in ['n', 'sigmoid', 'tanh']:\n",
    "                self.Activation = Activation\n",
    "                self.LR = LR\n",
    "                self.weights = []\n",
    "                self.bias = random.uniform(1, 5)\n",
    "            else:\n",
    "                raise ValueError(f'{Activation} is not implemented; choose from [\"sigmoid\", \"tanh\"] ')\n",
    "\n",
    "    def add_layer(self, LR, Activation):\n",
    "        self.layers.append(self.Layer(LR=LR, Activation=Activation))\n",
    "\n",
    "    def predict(self, inputs, lay):\n",
    "        preds = []\n",
    "        for i in inputs:\n",
    "            z = 0\n",
    "            for x, w in zip(i, lay.weights[1:]):\n",
    "                z += w * x\n",
    "\n",
    "            if z > 0:\n",
    "                y_pred = 1\n",
    "            else:\n",
    "                y_pred = -1\n",
    "            preds.append(y_pred)\n",
    "\n",
    "        return preds\n",
    "\n",
    "    def update_weights(self, inputs, y_train, y_preds, lay):\n",
    "        new_params = []\n",
    "\n",
    "        for i, w in enumerate(lay.weights):\n",
    "            s = 0\n",
    "            for x, ya, yp in zip(inputs, y_train, y_preds):\n",
    "                s += (yp - ya) * x[i]\n",
    "            par_dev = s / len(inputs)\n",
    "\n",
    "            new_w = w - (lay.LR * par_dev)\n",
    "            new_params.append(new_w)\n",
    "\n",
    "        lay.weights = new_params\n",
    "\n",
    "    def fit(self, x_train, y_train):\n",
    "        for i in range(len(x_train[0]) + 1):\n",
    "            self.layers[0].weights.append(random.uniform(-1, 1))\n",
    "\n",
    "        for L in self.layers[1:]:\n",
    "            for i in range(2):\n",
    "                L.weights.append(random.uniform(-1, 1))\n",
    "\n",
    "        inputs = [[] for _ in range(len(self.layers))]\n",
    "\n",
    "        for i in x_train:\n",
    "            inputs[0].append(tuple([self.layers[0].bias] + list(i)))\n",
    "\n",
    "        for i in range(len(self.layers)):\n",
    "            print(inputs)\n",
    "            p = self.predict(inputs[i], self.layers[i])\n",
    "            if i == len(self.layers) - 1:\n",
    "                inputs[i + 1].extend(p)\n",
    "            else:\n",
    "                inputs[i + 1].extend([(self.layers[i + 1].weights, pp) for pp in p])\n",
    "\n",
    "        for i in range(len(self.layers)):\n",
    "            self.update_weights(inputs[i], y_train, inputs[i + 1], self.layers[i])\n",
    "\n",
    "# Example usage:\n",
    "mod = Model()\n",
    "mod.add_layer(LR=12, Activation='sigmoid')\n",
    "x_train = [[-1.0, -1.0], [-1.0, 1.0], [1.0, -1.0], [1.0, 1.0]]\n",
    "y_train = [1, -1, -1, 1]\n",
    "mod.fit(x_train, y_train)\n"
   ]
  },
  {
   "cell_type": "code",
   "execution_count": 37,
   "metadata": {},
   "outputs": [
    {
     "ename": "AttributeError",
     "evalue": "'Model' object has no attribute 'layers'",
     "output_type": "error",
     "traceback": [
      "\u001b[1;31m---------------------------------------------------------------------------\u001b[0m",
      "\u001b[1;31mAttributeError\u001b[0m                            Traceback (most recent call last)",
      "Cell \u001b[1;32mIn[37], line 3\u001b[0m\n\u001b[0;32m      1\u001b[0m mod \u001b[38;5;241m=\u001b[39m Model()\n\u001b[1;32m----> 3\u001b[0m \u001b[43mmod\u001b[49m\u001b[38;5;241;43m.\u001b[39;49m\u001b[43madd_layer\u001b[49m\u001b[43m(\u001b[49m\u001b[43mActivation\u001b[49m\u001b[38;5;241;43m=\u001b[39;49m\u001b[38;5;124;43m'\u001b[39;49m\u001b[38;5;124;43md\u001b[39;49m\u001b[38;5;124;43m'\u001b[39;49m\u001b[43m \u001b[49m\u001b[43m,\u001b[49m\u001b[43m \u001b[49m\u001b[43mLR\u001b[49m\u001b[43m \u001b[49m\u001b[38;5;241;43m=\u001b[39;49m\u001b[43m \u001b[49m\u001b[38;5;241;43m12\u001b[39;49m\u001b[43m)\u001b[49m\n",
      "Cell \u001b[1;32mIn[36], line 18\u001b[0m, in \u001b[0;36mModel.add_layer\u001b[1;34m(self, LR, Activation)\u001b[0m\n\u001b[0;32m     17\u001b[0m \u001b[38;5;28;01mdef\u001b[39;00m \u001b[38;5;21madd_layer\u001b[39m(\u001b[38;5;28mself\u001b[39m , LR , Activation):\n\u001b[1;32m---> 18\u001b[0m     \u001b[38;5;28;43mself\u001b[39;49m\u001b[38;5;241;43m.\u001b[39;49m\u001b[43mlayers\u001b[49m\u001b[38;5;241m.\u001b[39mappend(\u001b[38;5;28mself\u001b[39m\u001b[38;5;241m.\u001b[39mLayer(Activation\u001b[38;5;241m=\u001b[39mActivation , LR \u001b[38;5;241m=\u001b[39m LR))\n",
      "\u001b[1;31mAttributeError\u001b[0m: 'Model' object has no attribute 'layers'"
     ]
    }
   ],
   "source": [
    "mod = Model()\n",
    "\n",
    "mod.add_layer(Activation='d' , LR = 12)"
   ]
  },
  {
   "cell_type": "code",
   "execution_count": 26,
   "metadata": {},
   "outputs": [
    {
     "name": "stdout",
     "output_type": "stream",
     "text": [
      "[[], []]\n"
     ]
    }
   ],
   "source": []
  }
 ],
 "metadata": {
  "kernelspec": {
   "display_name": "base",
   "language": "python",
   "name": "python3"
  },
  "language_info": {
   "codemirror_mode": {
    "name": "ipython",
    "version": 3
   },
   "file_extension": ".py",
   "mimetype": "text/x-python",
   "name": "python",
   "nbconvert_exporter": "python",
   "pygments_lexer": "ipython3",
   "version": "3.10.9"
  }
 },
 "nbformat": 4,
 "nbformat_minor": 2
}
